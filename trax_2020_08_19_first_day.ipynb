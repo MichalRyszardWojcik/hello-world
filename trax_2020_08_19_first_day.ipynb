{
  "nbformat": 4,
  "nbformat_minor": 0,
  "metadata": {
    "colab": {
      "name": "trax-2020-08-19-first-day.ipynb",
      "provenance": [],
      "authorship_tag": "ABX9TyOYKlZ0QQVpejsRonbgwP6z",
      "include_colab_link": true
    },
    "kernelspec": {
      "name": "python3",
      "display_name": "Python 3"
    }
  },
  "cells": [
    {
      "cell_type": "markdown",
      "metadata": {
        "id": "view-in-github",
        "colab_type": "text"
      },
      "source": [
        "<a href=\"https://colab.research.google.com/github/MichalRyszardWojcik/hello-world/blob/master/trax_2020_08_19_first_day.ipynb\" target=\"_parent\"><img src=\"https://colab.research.google.com/assets/colab-badge.svg\" alt=\"Open In Colab\"/></a>"
      ]
    },
    {
      "cell_type": "markdown",
      "metadata": {
        "id": "3n9mxN5-V14o",
        "colab_type": "text"
      },
      "source": [
        "Based on https://github.com/jalammar/jalammar.github.io/blob/master/notebooks/Trax_TransformerLM_Intro.ipynb\n",
        "\n",
        "The example from there returns a flipped array.\n",
        "\n",
        "My example is basically the same but it returns an array filled with the maximum value.\n",
        "\n",
        "[a,b,c,d] --> [m,m,m,m] where m = max(a,b,c,d)"
      ]
    },
    {
      "cell_type": "code",
      "metadata": {
        "id": "kxkZeQXEunzR",
        "colab_type": "code",
        "colab": {}
      },
      "source": [
        "import os\n",
        "import numpy as np\n",
        "! pip install -q -U trax\n",
        "import trax"
      ],
      "execution_count": null,
      "outputs": []
    },
    {
      "cell_type": "code",
      "metadata": {
        "id": "UrS-E9QB0lzs",
        "colab_type": "code",
        "colab": {}
      },
      "source": [
        "# Create a Transformer model.\n",
        "def tiny_transformer_lm(mode='train'):\n",
        "  return trax.models.TransformerLM(  \n",
        "          d_model=32, d_ff=128, n_layers=2, \n",
        "          vocab_size=32, mode=mode)"
      ],
      "execution_count": 17,
      "outputs": []
    },
    {
      "cell_type": "code",
      "metadata": {
        "id": "kU3Igd6Y1HvC",
        "colab_type": "code",
        "colab": {}
      },
      "source": [
        "def max_ints_task(batch_size, length=4):\n",
        "  while True:\n",
        "    random_ints = m = np.random.randint(1, 31, (batch_size,length))\n",
        "    source = random_ints\n",
        "\n",
        "    maxline = np.amax(source,1).reshape(1,batch_size)\n",
        "    max = np.copy(maxline)\n",
        "    for i in range(length-1):\n",
        "      max = np.concatenate((max,maxline),0)\n",
        "    target = max.transpose()\n",
        "\n",
        "    zero = np.zeros([batch_size, 1], np.int32)\n",
        "    x = np.concatenate([zero, source, zero, target], axis=1)\n",
        "\n",
        "    loss_weights = np.concatenate([np.zeros((batch_size, length+2)),\n",
        "                                    np.ones((batch_size, length))], axis=1)\n",
        "    yield (x, x, loss_weights)  # Here inputs and targets are the same."
      ],
      "execution_count": 73,
      "outputs": []
    },
    {
      "cell_type": "code",
      "metadata": {
        "id": "4sIqhDdX2SVu",
        "colab_type": "code",
        "colab": {
          "base_uri": "https://localhost:8080/",
          "height": 151
        },
        "outputId": "95f873f3-833e-42cb-cf8c-5c202078490d"
      },
      "source": [
        "a = max_ints_task(8)\n",
        "sequence_batch, _ , masks = next(a)\n",
        "sequence_batch\n"
      ],
      "execution_count": 71,
      "outputs": [
        {
          "output_type": "execute_result",
          "data": {
            "text/plain": [
              "array([[ 0,  7,  9,  8, 16,  0, 16, 16, 16, 16],\n",
              "       [ 0, 19,  2,  3,  3,  0, 19, 19, 19, 19],\n",
              "       [ 0, 28,  4, 20, 10,  0, 28, 28, 28, 28],\n",
              "       [ 0, 30, 16, 12, 27,  0, 30, 30, 30, 30],\n",
              "       [ 0,  7,  3, 30,  7,  0, 30, 30, 30, 30],\n",
              "       [ 0,  4, 26, 12, 16,  0, 26, 26, 26, 26],\n",
              "       [ 0, 13,  1, 19, 24,  0, 24, 24, 24, 24],\n",
              "       [ 0, 14, 20,  4,  5,  0, 20, 20, 20, 20]])"
            ]
          },
          "metadata": {
            "tags": []
          },
          "execution_count": 71
        }
      ]
    },
    {
      "cell_type": "code",
      "metadata": {
        "id": "sN_pzXmCJ-o1",
        "colab_type": "code",
        "colab": {}
      },
      "source": [
        "max_ints_inputs = trax.data.inputs.Inputs(lambda _: max_ints_task(16))"
      ],
      "execution_count": 74,
      "outputs": []
    },
    {
      "cell_type": "code",
      "metadata": {
        "id": "cyQmyTh3IvxD",
        "colab_type": "code",
        "colab": {}
      },
      "source": [
        "output_dir = os.path.expanduser('~/train_dir/')\n",
        "!rm -f ~/train_dir/model.pkl.gz  # Remove old model.\n",
        "\n",
        "# Train tiny model with Trainer.\n",
        "trainer = trax.supervised.Trainer(\n",
        "    model=tiny_transformer_lm,\n",
        "    loss_fn=trax.layers.CrossEntropyLoss(),\n",
        "    optimizer=trax.optimizers.Adafactor,  # Change optimizer params here.\n",
        "    lr_schedule=trax.lr.constant(0.001),  # Change lr schedule here.\n",
        "    inputs=max_ints_inputs,\n",
        "    output_dir=output_dir)\n",
        "\n",
        "# Train for 3 epochs each consisting of 500 train batches, eval on 2 batches.\n",
        "n_epochs  = 3\n",
        "train_steps = 800\n",
        "eval_steps = 2\n",
        "for _ in range(n_epochs):\n",
        "  trainer.train_epoch(train_steps, eval_steps)"
      ],
      "execution_count": null,
      "outputs": []
    },
    {
      "cell_type": "code",
      "metadata": {
        "id": "gpq3a5-uLRgC",
        "colab_type": "code",
        "colab": {
          "base_uri": "https://localhost:8080/",
          "height": 34
        },
        "outputId": "be7592f7-23c2-48ab-9edc-feab5c1c59f0"
      },
      "source": [
        "input = np.array([[0, 4, 6, 29, 10, 0]])\n",
        "\n",
        "# Initialize model for inference.\n",
        "predict_model = tiny_transformer_lm(mode='predict')\n",
        "predict_signature = trax.shapes.ShapeDtype((1,1), dtype=np.int32)\n",
        "predict_model.init_from_file(os.path.join(output_dir, \"model.pkl.gz\"),\n",
        "                             weights_only=True, input_signature=predict_signature)\n",
        "\n",
        "# Run the model\n",
        "outputt = trax.supervised.decoding.autoregressive_sample(\n",
        "    predict_model, input, temperature=0.0, max_length=4)\n",
        "\n",
        "# Print the contents of output\n",
        "outputt"
      ],
      "execution_count": 86,
      "outputs": [
        {
          "output_type": "execute_result",
          "data": {
            "text/plain": [
              "array([[29, 29, 29, 29]])"
            ]
          },
          "metadata": {
            "tags": []
          },
          "execution_count": 86
        }
      ]
    },
    {
      "cell_type": "code",
      "metadata": {
        "id": "oM-TRUGfMjUl",
        "colab_type": "code",
        "colab": {}
      },
      "source": [
        "def output(input):\n",
        "  predict_model = tiny_transformer_lm(mode='predict')\n",
        "  predict_signature = trax.shapes.ShapeDtype((1,1), dtype=np.int32)\n",
        "  predict_model.init_from_file(os.path.join(output_dir, \"model.pkl.gz\"),weights_only=True, input_signature=predict_signature)\n",
        "  return trax.supervised.decoding.autoregressive_sample(predict_model, input, temperature=0.0, max_length=4)"
      ],
      "execution_count": 97,
      "outputs": []
    },
    {
      "cell_type": "code",
      "metadata": {
        "id": "sqeENol2NsU9",
        "colab_type": "code",
        "colab": {
          "base_uri": "https://localhost:8080/",
          "height": 134
        },
        "outputId": "527e9f06-f657-4ad8-95d5-d76fa7f69b11"
      },
      "source": [
        "#input = np.array([[0, 4, 6, 29, 10, 0]])\n",
        "#output(input)\n",
        "\n",
        "def randominput():\n",
        "  x = np.random.randint(1, 31, (1,6))\n",
        "  x[0,0] = 0; x[0,5] = 0\n",
        "  return x\n",
        "\n",
        "def randomdemo():\n",
        "  a = randominput()\n",
        "  b = output(a)\n",
        "  return [a,b]\n",
        "\n",
        "for _ in range(7): print(randomdemo())"
      ],
      "execution_count": 110,
      "outputs": [
        {
          "output_type": "stream",
          "text": [
            "[array([[ 0, 17, 19, 26,  5,  0]]), array([[26, 26, 26, 26]])]\n",
            "[array([[ 0, 24, 10, 15, 23,  0]]), array([[24, 24, 24, 24]])]\n",
            "[array([[ 0,  6, 12, 26, 14,  0]]), array([[26, 26, 26, 26]])]\n",
            "[array([[ 0, 28, 26,  9,  2,  0]]), array([[28, 28, 28, 28]])]\n",
            "[array([[ 0, 27, 18,  4, 14,  0]]), array([[27, 27, 27, 27]])]\n",
            "[array([[ 0, 24,  8, 17, 18,  0]]), array([[24, 24, 24, 24]])]\n",
            "[array([[ 0,  2, 19, 30, 28,  0]]), array([[30, 30, 30, 30]])]\n"
          ],
          "name": "stdout"
        }
      ]
    }
  ]
}