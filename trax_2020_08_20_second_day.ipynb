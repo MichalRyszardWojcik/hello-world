{
  "nbformat": 4,
  "nbformat_minor": 0,
  "metadata": {
    "colab": {
      "name": "trax-2020-08-20-second-day.ipynb",
      "provenance": [],
      "authorship_tag": "ABX9TyO20WSK8rN0nO6gh/MSyuBz",
      "include_colab_link": true
    },
    "kernelspec": {
      "name": "python3",
      "display_name": "Python 3"
    }
  },
  "cells": [
    {
      "cell_type": "markdown",
      "metadata": {
        "id": "view-in-github",
        "colab_type": "text"
      },
      "source": [
        "<a href=\"https://colab.research.google.com/github/MichalRyszardWojcik/hello-world/blob/master/trax_2020_08_20_second_day.ipynb\" target=\"_parent\"><img src=\"https://colab.research.google.com/assets/colab-badge.svg\" alt=\"Open In Colab\"/></a>"
      ]
    },
    {
      "cell_type": "markdown",
      "metadata": {
        "id": "3n9mxN5-V14o",
        "colab_type": "text"
      },
      "source": [
        "Based on https://github.com/jalammar/jalammar.github.io/blob/master/notebooks/Trax_TransformerLM_Intro.ipynb\n",
        "\n",
        "The example from there returns a flipped array.\n",
        "\n",
        "My example is basically the same but it returns an array filled with the maximum or minimum value.\n",
        "\n",
        "[a,b,c,d] --> [m,m,m,m] where m = max(a,b,c,d) or m = min(a,b,c,d)"
      ]
    },
    {
      "cell_type": "code",
      "metadata": {
        "id": "kxkZeQXEunzR",
        "colab_type": "code",
        "colab": {
          "base_uri": "https://localhost:8080/",
          "height": 420
        },
        "outputId": "df57de33-02ca-4636-fc2e-7b8cc0ef199e"
      },
      "source": [
        "import os\n",
        "import numpy as np\n",
        "! pip install -q -U trax\n",
        "import trax"
      ],
      "execution_count": 2,
      "outputs": [
        {
          "output_type": "stream",
          "text": [
            "\u001b[K     |████████████████████████████████| 368kB 2.8MB/s \n",
            "\u001b[K     |████████████████████████████████| 2.6MB 9.1MB/s \n",
            "\u001b[K     |████████████████████████████████| 163kB 28.6MB/s \n",
            "\u001b[K     |████████████████████████████████| 1.5MB 27.0MB/s \n",
            "\u001b[K     |████████████████████████████████| 778kB 41.7MB/s \n",
            "\u001b[K     |████████████████████████████████| 1.1MB 49.3MB/s \n",
            "\u001b[K     |████████████████████████████████| 3.5MB 43.1MB/s \n",
            "\u001b[K     |████████████████████████████████| 51kB 6.4MB/s \n",
            "\u001b[K     |████████████████████████████████| 307kB 48.3MB/s \n",
            "\u001b[K     |████████████████████████████████| 184kB 38.7MB/s \n",
            "\u001b[K     |████████████████████████████████| 655kB 45.5MB/s \n",
            "\u001b[K     |████████████████████████████████| 358kB 45.6MB/s \n",
            "\u001b[K     |████████████████████████████████| 81kB 8.7MB/s \n",
            "\u001b[K     |████████████████████████████████| 5.3MB 48.1MB/s \n",
            "\u001b[K     |████████████████████████████████| 368kB 49.9MB/s \n",
            "\u001b[K     |████████████████████████████████| 983kB 49.5MB/s \n",
            "\u001b[K     |████████████████████████████████| 3.0MB 46.7MB/s \n",
            "\u001b[K     |████████████████████████████████| 890kB 46.6MB/s \n",
            "\u001b[K     |████████████████████████████████| 51kB 6.6MB/s \n",
            "\u001b[K     |████████████████████████████████| 235kB 14.4MB/s \n",
            "\u001b[?25h  Building wheel for pypng (setup.py) ... \u001b[?25l\u001b[?25hdone\n",
            "  Building wheel for bz2file (setup.py) ... \u001b[?25l\u001b[?25hdone\n",
            "  Building wheel for sacremoses (setup.py) ... \u001b[?25l\u001b[?25hdone\n",
            "INFO:tensorflow:tokens_length=568 inputs_length=512 targets_length=114 noise_density=0.15 mean_noise_span_length=3.0 \n"
          ],
          "name": "stdout"
        }
      ]
    },
    {
      "cell_type": "code",
      "metadata": {
        "id": "UrS-E9QB0lzs",
        "colab_type": "code",
        "colab": {}
      },
      "source": [
        "# Create a Transformer model.\n",
        "def tiny_transformer_lm(mode='train'):\n",
        "  return trax.models.TransformerLM(  \n",
        "          d_model=32, d_ff=128, n_layers=2, \n",
        "          vocab_size=32, mode=mode)"
      ],
      "execution_count": 3,
      "outputs": []
    },
    {
      "cell_type": "code",
      "metadata": {
        "id": "kU3Igd6Y1HvC",
        "colab_type": "code",
        "colab": {}
      },
      "source": [
        "def max_ints_task(batch_size, length=4):\n",
        "  while True:\n",
        "    random_ints = m = np.random.randint(1, 31, (batch_size,length))\n",
        "    source = random_ints\n",
        "\n",
        "    maxline = np.amax(source,1).reshape(1,batch_size)\n",
        "    max = np.copy(maxline)\n",
        "    for i in range(length-1):\n",
        "      max = np.concatenate((max,maxline),0)\n",
        "    target = max.transpose()\n",
        "\n",
        "    zero = np.zeros([batch_size, 1], np.int32)\n",
        "    x = np.concatenate([zero, source, zero, target], axis=1)\n",
        "\n",
        "    loss_weights = np.concatenate([np.zeros((batch_size, length+2)),\n",
        "                                    np.ones((batch_size, length))], axis=1)\n",
        "    yield (x, x, loss_weights)  # Here inputs and targets are the same."
      ],
      "execution_count": 4,
      "outputs": []
    },
    {
      "cell_type": "code",
      "metadata": {
        "id": "N6bEf9z-iEb9",
        "colab_type": "code",
        "colab": {}
      },
      "source": [
        "def maxmin_ints_task(batch_size, length=4):\n",
        "  while True:\n",
        "    random_ints = m = np.random.randint(1, 31, (batch_size,length))\n",
        "    source = random_ints\n",
        "\n",
        "    coin = np.random.randint(0,2)\n",
        "    if (coin == 0):\n",
        "      maxline = np.amax(source,1).reshape(1,batch_size)\n",
        "    else:\n",
        "      maxline = np.amin(source,1).reshape(1,batch_size)\n",
        "    max = np.copy(maxline)\n",
        "    for i in range(length-1):\n",
        "      max = np.concatenate((max,maxline),0)\n",
        "    target = max.transpose()\n",
        "\n",
        "    zero = np.zeros([batch_size, 1], np.int32)\n",
        "    x = np.concatenate([zero, source, zero, target], axis=1)\n",
        "\n",
        "    loss_weights = np.concatenate([np.zeros((batch_size, length+2)),\n",
        "                                    np.ones((batch_size, length))], axis=1)\n",
        "    yield (x, x, loss_weights)  # Here inputs and targets are the same."
      ],
      "execution_count": 55,
      "outputs": []
    },
    {
      "cell_type": "code",
      "metadata": {
        "id": "4sIqhDdX2SVu",
        "colab_type": "code",
        "colab": {
          "base_uri": "https://localhost:8080/",
          "height": 151
        },
        "outputId": "d2af7aa5-5d8d-4140-f499-46ee05f60fcc"
      },
      "source": [
        "a = maxmin_ints_task(8)\n",
        "sequence_batch, _ , masks = next(a)\n",
        "sequence_batch\n"
      ],
      "execution_count": 67,
      "outputs": [
        {
          "output_type": "execute_result",
          "data": {
            "text/plain": [
              "array([[ 0, 30, 13, 28, 28,  0, 13, 13, 13, 13],\n",
              "       [ 0,  7, 22,  4, 26,  0,  4,  4,  4,  4],\n",
              "       [ 0, 23, 17, 18,  9,  0,  9,  9,  9,  9],\n",
              "       [ 0, 24,  9, 14, 26,  0,  9,  9,  9,  9],\n",
              "       [ 0, 11,  5,  5, 17,  0,  5,  5,  5,  5],\n",
              "       [ 0, 29, 30, 14,  6,  0,  6,  6,  6,  6],\n",
              "       [ 0,  5,  4, 22, 17,  0,  4,  4,  4,  4],\n",
              "       [ 0, 26,  8, 18,  5,  0,  5,  5,  5,  5]])"
            ]
          },
          "metadata": {
            "tags": []
          },
          "execution_count": 67
        }
      ]
    },
    {
      "cell_type": "code",
      "metadata": {
        "id": "sN_pzXmCJ-o1",
        "colab_type": "code",
        "colab": {}
      },
      "source": [
        "ints_inputs = trax.data.inputs.Inputs(lambda _: maxmin_ints_task(16))"
      ],
      "execution_count": 69,
      "outputs": []
    },
    {
      "cell_type": "code",
      "metadata": {
        "id": "cyQmyTh3IvxD",
        "colab_type": "code",
        "colab": {
          "base_uri": "https://localhost:8080/",
          "height": 722
        },
        "outputId": "42cba0b7-7414-426b-b233-77a31838a0bf"
      },
      "source": [
        "output_dir = os.path.expanduser('~/train_dir/')\n",
        "!rm -f ~/train_dir/model.pkl.gz  # Remove old model.\n",
        "\n",
        "# Train tiny model with Trainer.\n",
        "trainer = trax.supervised.Trainer(\n",
        "    model=tiny_transformer_lm,\n",
        "    loss_fn=trax.layers.CrossEntropyLoss(),\n",
        "    optimizer=trax.optimizers.Adafactor,  # Change optimizer params here.\n",
        "    lr_schedule=trax.lr.constant(0.001),  # Change lr schedule here.\n",
        "    inputs=ints_inputs,\n",
        "    output_dir=output_dir)\n",
        "\n",
        "# Train for 3 epochs each consisting of 500 train batches, eval on 2 batches.\n",
        "n_epochs  = 3\n",
        "train_steps = 800\n",
        "eval_steps = 2\n",
        "for _ in range(n_epochs):\n",
        "  trainer.train_epoch(train_steps, eval_steps)"
      ],
      "execution_count": 70,
      "outputs": [
        {
          "output_type": "stream",
          "text": [
            "\n",
            "Step    800: Ran 800 train steps in 55.80 secs\n",
            "Step    800: Evaluation\n",
            "Step    800: train                   accuracy |  0.87500000\n",
            "Step    800: train                       loss |  0.53858292\n",
            "Step    800: train         neg_log_perplexity | -0.53858292\n",
            "Step    800: train          sequence_accuracy |  0.50000000\n",
            "Step    800: train weights_per_batch_per_core |  64.00000000\n",
            "Step    800: eval                    accuracy |  0.82031250\n",
            "Step    800: eval                        loss |  0.77849197\n",
            "Step    800: eval          neg_log_perplexity | -0.77849197\n",
            "Step    800: eval           sequence_accuracy |  0.28125000\n",
            "Step    800: eval  weights_per_batch_per_core |  64.00000000\n",
            "Step    800: Finished evaluation\n",
            "\n",
            "Step   1600: Ran 800 train steps in 7.22 secs\n",
            "Step   1600: Evaluation\n",
            "Step   1600: train                   accuracy |  0.84375000\n",
            "Step   1600: train                       loss |  0.47890729\n",
            "Step   1600: train         neg_log_perplexity | -0.47890729\n",
            "Step   1600: train          sequence_accuracy |  0.37500000\n",
            "Step   1600: train weights_per_batch_per_core |  64.00000000\n",
            "Step   1600: eval                    accuracy |  0.81250000\n",
            "Step   1600: eval                        loss |  0.65811133\n",
            "Step   1600: eval          neg_log_perplexity | -0.65811133\n",
            "Step   1600: eval           sequence_accuracy |  0.25000000\n",
            "Step   1600: eval  weights_per_batch_per_core |  64.00000000\n",
            "Step   1600: Finished evaluation\n",
            "\n",
            "Step   2400: Ran 800 train steps in 7.22 secs\n",
            "Step   2400: Evaluation\n",
            "Step   2400: train                   accuracy |  0.85156250\n",
            "Step   2400: train                       loss |  0.47457898\n",
            "Step   2400: train         neg_log_perplexity | -0.47457898\n",
            "Step   2400: train          sequence_accuracy |  0.40625000\n",
            "Step   2400: train weights_per_batch_per_core |  64.00000000\n",
            "Step   2400: eval                    accuracy |  0.85937500\n",
            "Step   2400: eval                        loss |  0.56399548\n",
            "Step   2400: eval          neg_log_perplexity | -0.56399548\n",
            "Step   2400: eval           sequence_accuracy |  0.43750000\n",
            "Step   2400: eval  weights_per_batch_per_core |  64.00000000\n",
            "Step   2400: Finished evaluation\n"
          ],
          "name": "stdout"
        }
      ]
    },
    {
      "cell_type": "code",
      "metadata": {
        "id": "gpq3a5-uLRgC",
        "colab_type": "code",
        "colab": {
          "base_uri": "https://localhost:8080/",
          "height": 34
        },
        "outputId": "be7592f7-23c2-48ab-9edc-feab5c1c59f0"
      },
      "source": [
        "input = np.array([[0, 4, 6, 29, 10, 0]])\n",
        "\n",
        "# Initialize model for inference.\n",
        "predict_model = tiny_transformer_lm(mode='predict')\n",
        "predict_signature = trax.shapes.ShapeDtype((1,1), dtype=np.int32)\n",
        "predict_model.init_from_file(os.path.join(output_dir, \"model.pkl.gz\"),\n",
        "                             weights_only=True, input_signature=predict_signature)\n",
        "\n",
        "# Run the model\n",
        "outputt = trax.supervised.decoding.autoregressive_sample(\n",
        "    predict_model, input, temperature=0.0, max_length=4)\n",
        "\n",
        "# Print the contents of output\n",
        "outputt"
      ],
      "execution_count": null,
      "outputs": [
        {
          "output_type": "execute_result",
          "data": {
            "text/plain": [
              "array([[29, 29, 29, 29]])"
            ]
          },
          "metadata": {
            "tags": []
          },
          "execution_count": 86
        }
      ]
    },
    {
      "cell_type": "code",
      "metadata": {
        "id": "oM-TRUGfMjUl",
        "colab_type": "code",
        "colab": {}
      },
      "source": [
        "def output(input):\n",
        "  predict_model = tiny_transformer_lm(mode='predict')\n",
        "  predict_signature = trax.shapes.ShapeDtype((1,1), dtype=np.int32)\n",
        "  predict_model.init_from_file(os.path.join(output_dir, \"model.pkl.gz\"),weights_only=True, input_signature=predict_signature)\n",
        "  return trax.supervised.decoding.autoregressive_sample(predict_model, input, temperature=0.0, max_length=4)"
      ],
      "execution_count": 8,
      "outputs": []
    },
    {
      "cell_type": "code",
      "metadata": {
        "id": "sqeENol2NsU9",
        "colab_type": "code",
        "colab": {
          "base_uri": "https://localhost:8080/",
          "height": 134
        },
        "outputId": "f0c10afd-d008-42ab-abd1-70614e7a32bd"
      },
      "source": [
        "#input = np.array([[0, 4, 6, 29, 10, 0]])\n",
        "#output(input)\n",
        "\n",
        "def randominput():\n",
        "  x = np.random.randint(1, 31, (1,6))\n",
        "  x[0,0] = 0; x[0,5] = 0\n",
        "  return x\n",
        "\n",
        "def randomdemo():\n",
        "  a = randominput()\n",
        "  b = output(a)\n",
        "  return [a,b]\n",
        "\n",
        "for _ in range(7): print(randomdemo())"
      ],
      "execution_count": 74,
      "outputs": [
        {
          "output_type": "stream",
          "text": [
            "[array([[ 0, 30, 19, 25, 14,  0]]), array([[30, 30, 30, 30]])]\n",
            "[array([[ 0, 30,  5, 10,  3,  0]]), array([[3, 3, 3, 3]])]\n",
            "[array([[ 0,  3, 16, 11,  1,  0]]), array([[1]])]\n",
            "[array([[ 0,  2, 23, 27,  4,  0]]), array([[2, 2, 2, 2]])]\n",
            "[array([[ 0, 12, 11, 20,  8,  0]]), array([[8, 8, 8, 8]])]\n",
            "[array([[ 0, 16, 12, 17,  5,  0]]), array([[5, 5, 5, 5]])]\n",
            "[array([[ 0,  2, 28,  3,  9,  0]]), array([[3, 3, 3, 3]])]\n"
          ],
          "name": "stdout"
        }
      ]
    },
    {
      "cell_type": "markdown",
      "metadata": {
        "id": "M_qTMSWWoqUo",
        "colab_type": "text"
      },
      "source": [
        "As expected it sometimes finds max and sometimes min, but why the output length is not fixed?\n",
        "<pre><code>\n",
        "[array([[ 0, 22,  6, 12, 13,  0]]), array([[22, 22, 22, 22]])]\n",
        "[array([[ 0,  1, 23, 13, 16,  0]]), array([[1]])]\n",
        "[array([[ 0,  8,  1, 18,  4,  0]]), array([[1]])]\n",
        "[array([[ 0, 24, 30, 19, 30,  0]]), array([[30, 30, 30, 30]])]\n",
        "[array([[ 0,  7,  2,  3, 19,  0]]), array([[2, 2, 2, 2]])]\n",
        "[array([[ 0, 10,  9, 29,  4,  0]]), array([[29, 29, 29, 29]])]\n",
        "[array([[ 0,  1,  3, 20, 12,  0]]), array([[1]])]\n",
        "<br>\n",
        "[array([[ 0, 10,  2,  3,  6,  0]]), array([[2, 2, 2, 2]])]\n",
        "[array([[ 0, 15,  9, 27, 27,  0]]), array([[27, 27, 27, 27]])]\n",
        "[array([[ 0, 20, 12,  1, 24,  0]]), array([[1]])]\n",
        "[array([[ 0, 25, 19, 17,  1,  0]]), array([[1]])]\n",
        "[array([[ 0,  5, 27,  6,  7,  0]]), array([[27, 27, 27, 27]])]\n",
        "[array([[ 0, 15, 12,  1, 21,  0]]), array([[1]])]\n",
        "[array([[ 0,  4, 12, 23, 23,  0]]), array([[23, 23, 23, 23]])]\n",
        "</code></pre>"
      ]
    }
  ]
}